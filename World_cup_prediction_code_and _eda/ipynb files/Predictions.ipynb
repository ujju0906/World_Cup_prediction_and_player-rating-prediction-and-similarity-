{
 "cells": [
  {
   "cell_type": "markdown",
   "metadata": {
    "colab_type": "text",
    "id": "view-in-github"
   },
   "source": [
    "<a href=\"https://colab.research.google.com/github/davidcamilo0710/QATAR_2022_Prediction/blob/master/Predictions.ipynb\" target=\"_parent\"><img src=\"https://colab.research.google.com/assets/colab-badge.svg\" alt=\"Open In Colab\"/></a>"
   ]
  },
  {
   "cell_type": "markdown",
   "metadata": {
    "id": "cIGDs5iVBEZk"
   },
   "source": [
    "# INDEX\n",
    "- RESUME\n",
    "- GROUP STAGE PREDICTION\n",
    "- KNOCKOUT STAGE PREDICTION"
   ]
  },
  {
   "cell_type": "markdown",
   "metadata": {
    "id": "_7_ON8XCYkI7"
   },
   "source": [
    "# RESUME"
   ]
  },
  {
   "cell_type": "markdown",
   "metadata": {
    "id": "_5DgmSHnOx1h"
   },
   "source": [
    "### Importing data and models"
   ]
  },
  {
   "cell_type": "code",
   "execution_count": 25,
   "metadata": {
    "_cell_guid": "b1076dfc-b9ad-4769-8c92-a6c4dae69d19",
    "_uuid": "8f2839f25d086af736a60e9eeb907d3b93b6e0e5",
    "execution": {
     "iopub.execute_input": "2022-09-16T05:39:39.646382Z",
     "iopub.status.busy": "2022-09-16T05:39:39.646004Z",
     "iopub.status.idle": "2022-09-16T05:39:40.126489Z",
     "shell.execute_reply": "2022-09-16T05:39:40.125346Z",
     "shell.execute_reply.started": "2022-09-16T05:39:39.646359Z"
    },
    "id": "bR2H_TM4czyy"
   },
   "outputs": [],
   "source": [
    "import numpy as np \n",
    "import pandas as pd\n",
    "import matplotlib.pyplot as plt\n",
    "import seaborn as sns\n",
    "import os\n",
    "import joblib\n",
    "import warnings\n",
    "warnings.filterwarnings('ignore')"
   ]
  },
  {
   "cell_type": "code",
   "execution_count": 26,
   "metadata": {
    "colab": {
     "base_uri": "https://localhost:8080/",
     "height": 206
    },
    "execution": {
     "iopub.execute_input": "2022-09-16T05:38:38.577404Z",
     "iopub.status.busy": "2022-09-16T05:38:38.57718Z",
     "iopub.status.idle": "2022-09-16T05:38:38.727653Z",
     "shell.execute_reply": "2022-09-16T05:38:38.726679Z",
     "shell.execute_reply.started": "2022-09-16T05:38:38.577382Z"
    },
    "id": "XxuELMU5czy7",
    "outputId": "e8927e7c-446c-42c5-f65a-57cdeb770f85"
   },
   "outputs": [
    {
     "data": {
      "text/html": [
       "<div>\n",
       "<style scoped>\n",
       "    .dataframe tbody tr th:only-of-type {\n",
       "        vertical-align: middle;\n",
       "    }\n",
       "\n",
       "    .dataframe tbody tr th {\n",
       "        vertical-align: top;\n",
       "    }\n",
       "\n",
       "    .dataframe thead th {\n",
       "        text-align: right;\n",
       "    }\n",
       "</style>\n",
       "<table border=\"1\" class=\"dataframe\">\n",
       "  <thead>\n",
       "    <tr style=\"text-align: right;\">\n",
       "      <th></th>\n",
       "      <th>team</th>\n",
       "      <th>date</th>\n",
       "      <th>rank</th>\n",
       "      <th>goalkeeper_score</th>\n",
       "      <th>defense_score</th>\n",
       "      <th>offense_score</th>\n",
       "      <th>midfield_score</th>\n",
       "    </tr>\n",
       "  </thead>\n",
       "  <tbody>\n",
       "    <tr>\n",
       "      <th>27</th>\n",
       "      <td>Switzerland</td>\n",
       "      <td>2022-06-12</td>\n",
       "      <td>14</td>\n",
       "      <td>85.0</td>\n",
       "      <td>78.0</td>\n",
       "      <td>77.0</td>\n",
       "      <td>80.0</td>\n",
       "    </tr>\n",
       "    <tr>\n",
       "      <th>28</th>\n",
       "      <td>Tunisia</td>\n",
       "      <td>2022-06-14</td>\n",
       "      <td>35</td>\n",
       "      <td>64.0</td>\n",
       "      <td>71.0</td>\n",
       "      <td>72.0</td>\n",
       "      <td>74.0</td>\n",
       "    </tr>\n",
       "    <tr>\n",
       "      <th>29</th>\n",
       "      <td>USA</td>\n",
       "      <td>2022-06-14</td>\n",
       "      <td>15</td>\n",
       "      <td>77.0</td>\n",
       "      <td>76.0</td>\n",
       "      <td>78.0</td>\n",
       "      <td>76.0</td>\n",
       "    </tr>\n",
       "    <tr>\n",
       "      <th>30</th>\n",
       "      <td>Uruguay</td>\n",
       "      <td>2022-06-11</td>\n",
       "      <td>13</td>\n",
       "      <td>80.0</td>\n",
       "      <td>81.0</td>\n",
       "      <td>84.0</td>\n",
       "      <td>80.0</td>\n",
       "    </tr>\n",
       "    <tr>\n",
       "      <th>31</th>\n",
       "      <td>Wales</td>\n",
       "      <td>2022-06-14</td>\n",
       "      <td>18</td>\n",
       "      <td>74.0</td>\n",
       "      <td>75.0</td>\n",
       "      <td>73.0</td>\n",
       "      <td>78.0</td>\n",
       "    </tr>\n",
       "  </tbody>\n",
       "</table>\n",
       "</div>"
      ],
      "text/plain": [
       "           team        date  rank  goalkeeper_score  defense_score  \\\n",
       "27  Switzerland  2022-06-12    14              85.0           78.0   \n",
       "28      Tunisia  2022-06-14    35              64.0           71.0   \n",
       "29          USA  2022-06-14    15              77.0           76.0   \n",
       "30      Uruguay  2022-06-11    13              80.0           81.0   \n",
       "31        Wales  2022-06-14    18              74.0           75.0   \n",
       "\n",
       "    offense_score  midfield_score  \n",
       "27           77.0            80.0  \n",
       "28           72.0            74.0  \n",
       "29           78.0            76.0  \n",
       "30           84.0            80.0  \n",
       "31           73.0            78.0  "
      ]
     },
     "execution_count": 26,
     "metadata": {},
     "output_type": "execute_result"
    }
   ],
   "source": [
    "last_team_scores = pd.read_csv('data/last_team_scores.csv')\n",
    "last_team_scores.tail()"
   ]
  },
  {
   "cell_type": "code",
   "execution_count": 27,
   "metadata": {
    "colab": {
     "base_uri": "https://localhost:8080/",
     "height": 206
    },
    "id": "X0HcO-nJOkrx",
    "outputId": "febb3b77-2018-4fff-c082-73676bf5850a"
   },
   "outputs": [
    {
     "data": {
      "text/html": [
       "<div>\n",
       "<style scoped>\n",
       "    .dataframe tbody tr th:only-of-type {\n",
       "        vertical-align: middle;\n",
       "    }\n",
       "\n",
       "    .dataframe tbody tr th {\n",
       "        vertical-align: top;\n",
       "    }\n",
       "\n",
       "    .dataframe thead th {\n",
       "        text-align: right;\n",
       "    }\n",
       "</style>\n",
       "<table border=\"1\" class=\"dataframe\">\n",
       "  <thead>\n",
       "    <tr style=\"text-align: right;\">\n",
       "      <th></th>\n",
       "      <th>nationality_name</th>\n",
       "      <th>overall</th>\n",
       "      <th>potential</th>\n",
       "    </tr>\n",
       "  </thead>\n",
       "  <tbody>\n",
       "    <tr>\n",
       "      <th>27</th>\n",
       "      <td>Australia</td>\n",
       "      <td>72.55</td>\n",
       "      <td>76.82</td>\n",
       "    </tr>\n",
       "    <tr>\n",
       "      <th>28</th>\n",
       "      <td>Tunisia</td>\n",
       "      <td>73.00</td>\n",
       "      <td>76.00</td>\n",
       "    </tr>\n",
       "    <tr>\n",
       "      <th>29</th>\n",
       "      <td>Saudi Arabia</td>\n",
       "      <td>71.45</td>\n",
       "      <td>75.27</td>\n",
       "    </tr>\n",
       "    <tr>\n",
       "      <th>30</th>\n",
       "      <td>Costa Rica</td>\n",
       "      <td>72.00</td>\n",
       "      <td>74.55</td>\n",
       "    </tr>\n",
       "    <tr>\n",
       "      <th>31</th>\n",
       "      <td>IR Iran</td>\n",
       "      <td>70.82</td>\n",
       "      <td>72.36</td>\n",
       "    </tr>\n",
       "  </tbody>\n",
       "</table>\n",
       "</div>"
      ],
      "text/plain": [
       "   nationality_name  overall  potential\n",
       "27        Australia    72.55      76.82\n",
       "28          Tunisia    73.00      76.00\n",
       "29     Saudi Arabia    71.45      75.27\n",
       "30       Costa Rica    72.00      74.55\n",
       "31          IR Iran    70.82      72.36"
      ]
     },
     "execution_count": 27,
     "metadata": {},
     "output_type": "execute_result"
    }
   ],
   "source": [
    "squad_stats = pd.read_csv('data/squad_stats.csv')\n",
    "squad_stats.tail()"
   ]
  },
  {
   "cell_type": "code",
   "execution_count": 28,
   "metadata": {
    "colab": {
     "base_uri": "https://localhost:8080/",
     "height": 206
    },
    "id": "bN5iAbBnGrO8",
    "outputId": "1c56e42a-8ed2-4aab-c1cc-b1fa1e2b8f49"
   },
   "outputs": [
    {
     "data": {
      "text/html": [
       "<div>\n",
       "<style scoped>\n",
       "    .dataframe tbody tr th:only-of-type {\n",
       "        vertical-align: middle;\n",
       "    }\n",
       "\n",
       "    .dataframe tbody tr th {\n",
       "        vertical-align: top;\n",
       "    }\n",
       "\n",
       "    .dataframe thead th {\n",
       "        text-align: right;\n",
       "    }\n",
       "</style>\n",
       "<table border=\"1\" class=\"dataframe\">\n",
       "  <thead>\n",
       "    <tr style=\"text-align: right;\">\n",
       "      <th></th>\n",
       "      <th>country1</th>\n",
       "      <th>country2</th>\n",
       "      <th>group</th>\n",
       "    </tr>\n",
       "  </thead>\n",
       "  <tbody>\n",
       "    <tr>\n",
       "      <th>43</th>\n",
       "      <td>Costa Rica</td>\n",
       "      <td>Germany</td>\n",
       "      <td>e</td>\n",
       "    </tr>\n",
       "    <tr>\n",
       "      <th>44</th>\n",
       "      <td>Ghana</td>\n",
       "      <td>Uruguay</td>\n",
       "      <td>h</td>\n",
       "    </tr>\n",
       "    <tr>\n",
       "      <th>45</th>\n",
       "      <td>Korea Republic</td>\n",
       "      <td>Portugal</td>\n",
       "      <td>h</td>\n",
       "    </tr>\n",
       "    <tr>\n",
       "      <th>46</th>\n",
       "      <td>Serbia</td>\n",
       "      <td>Switzerland</td>\n",
       "      <td>g</td>\n",
       "    </tr>\n",
       "    <tr>\n",
       "      <th>47</th>\n",
       "      <td>Cameroon</td>\n",
       "      <td>Brazil</td>\n",
       "      <td>g</td>\n",
       "    </tr>\n",
       "  </tbody>\n",
       "</table>\n",
       "</div>"
      ],
      "text/plain": [
       "          country1     country2 group\n",
       "43      Costa Rica      Germany     e\n",
       "44           Ghana      Uruguay     h\n",
       "45  Korea Republic     Portugal     h\n",
       "46          Serbia  Switzerland     g\n",
       "47        Cameroon       Brazil     g"
      ]
     },
     "execution_count": 28,
     "metadata": {},
     "output_type": "execute_result"
    }
   ],
   "source": [
    "group_matches = pd.read_csv('data/Qatar_group_stage.csv')\n",
    "round_16 = group_matches.iloc[48:56, :]\n",
    "quarter_finals = group_matches.iloc[56:60, :]\n",
    "semi_finals = group_matches.iloc[60:62, :]\n",
    "final = group_matches.iloc[62:63, :]\n",
    "second_final = group_matches.iloc[63:64, :]\n",
    "group_matches = group_matches.iloc[:48, :]\n",
    "group_matches.tail()"
   ]
  },
  {
   "cell_type": "code",
   "execution_count": 29,
   "metadata": {
    "execution": {
     "iopub.execute_input": "2022-09-16T05:54:13.572427Z",
     "iopub.status.busy": "2022-09-16T05:54:13.571673Z",
     "iopub.status.idle": "2022-09-16T05:54:13.577063Z",
     "shell.execute_reply": "2022-09-16T05:54:13.575885Z",
     "shell.execute_reply.started": "2022-09-16T05:54:13.572401Z"
    },
    "id": "oDEXffzJczzD"
   },
   "outputs": [],
   "source": [
    "gs_model = joblib.load(\"models/groups_stage_prediction.pkl\")"
   ]
  },
  {
   "cell_type": "code",
   "execution_count": 30,
   "metadata": {
    "execution": {
     "iopub.execute_input": "2022-09-16T05:56:12.363507Z",
     "iopub.status.busy": "2022-09-16T05:56:12.363203Z",
     "iopub.status.idle": "2022-09-16T05:56:12.36764Z",
     "shell.execute_reply": "2022-09-16T05:56:12.366824Z",
     "shell.execute_reply.started": "2022-09-16T05:56:12.363484Z"
    },
    "id": "qyEa4sYmczzD"
   },
   "outputs": [],
   "source": [
    "ks_model = joblib.load(\"models/knockout_stage_prediction.pkl\")"
   ]
  },
  {
   "cell_type": "code",
   "execution_count": 31,
   "metadata": {
    "colab": {
     "base_uri": "https://localhost:8080/",
     "height": 206
    },
    "id": "2Me0SDbiq737",
    "outputId": "7bb25637-68bf-42be-851f-fb39a249af59"
   },
   "outputs": [
    {
     "data": {
      "text/html": [
       "<div>\n",
       "<style scoped>\n",
       "    .dataframe tbody tr th:only-of-type {\n",
       "        vertical-align: middle;\n",
       "    }\n",
       "\n",
       "    .dataframe tbody tr th {\n",
       "        vertical-align: top;\n",
       "    }\n",
       "\n",
       "    .dataframe thead th {\n",
       "        text-align: right;\n",
       "    }\n",
       "</style>\n",
       "<table border=\"1\" class=\"dataframe\">\n",
       "  <thead>\n",
       "    <tr style=\"text-align: right;\">\n",
       "      <th></th>\n",
       "      <th>team</th>\n",
       "      <th>group</th>\n",
       "    </tr>\n",
       "  </thead>\n",
       "  <tbody>\n",
       "    <tr>\n",
       "      <th>0</th>\n",
       "      <td>Qatar</td>\n",
       "      <td>a</td>\n",
       "    </tr>\n",
       "    <tr>\n",
       "      <th>1</th>\n",
       "      <td>Senegal</td>\n",
       "      <td>a</td>\n",
       "    </tr>\n",
       "    <tr>\n",
       "      <th>2</th>\n",
       "      <td>England</td>\n",
       "      <td>b</td>\n",
       "    </tr>\n",
       "    <tr>\n",
       "      <th>3</th>\n",
       "      <td>USA</td>\n",
       "      <td>b</td>\n",
       "    </tr>\n",
       "    <tr>\n",
       "      <th>4</th>\n",
       "      <td>France</td>\n",
       "      <td>d</td>\n",
       "    </tr>\n",
       "  </tbody>\n",
       "</table>\n",
       "</div>"
      ],
      "text/plain": [
       "      team group\n",
       "0    Qatar     a\n",
       "1  Senegal     a\n",
       "2  England     b\n",
       "3      USA     b\n",
       "4   France     d"
      ]
     },
     "execution_count": 31,
     "metadata": {},
     "output_type": "execute_result"
    }
   ],
   "source": [
    "team_group = group_matches.drop(['country2'], axis=1)\n",
    "team_group = team_group.drop_duplicates().reset_index(drop=True)\n",
    "team_group = team_group.rename(columns = {\"country1\":\"team\"})\n",
    "team_group.head(5)"
   ]
  },
  {
   "cell_type": "markdown",
   "metadata": {
    "id": "lchr84fNO2j3"
   },
   "source": [
    "### Declaring important functions"
   ]
  },
  {
   "cell_type": "code",
   "execution_count": 32,
   "metadata": {
    "id": "HWYAL9RbO6QL"
   },
   "outputs": [],
   "source": [
    "def matches(g_matches):\n",
    "    g_matches.insert(2, 'potential1', g_matches['country1'].map(squad_stats.set_index('nationality_name')['potential']))\n",
    "    g_matches.insert(3, 'potential2', g_matches['country2'].map(squad_stats.set_index('nationality_name')['potential']))\n",
    "    g_matches.insert(4, 'rank1', g_matches['country1'].map(last_team_scores.set_index('team')['rank']))\n",
    "    g_matches.insert(5, 'rank2', g_matches['country2'].map(last_team_scores.set_index('team')['rank']))\n",
    "    pred_set = []\n",
    "\n",
    "    for index, row in g_matches.iterrows():\n",
    "        if row['potential1'] > row['potential2'] and abs(row['potential1'] - row['potential2']) > 2:          \n",
    "            pred_set.append({'Team1': row['country1'], 'Team2': row['country2']})\n",
    "        elif row['potential2'] > row['potential1'] and abs(row['potential2'] - row['potential1']) > 2:\n",
    "            pred_set.append({'Team1': row['country2'], 'Team2': row['country1']})\n",
    "        else:\n",
    "            if row['rank1'] > row['rank2']:\n",
    "                pred_set.append({'Team1': row['country1'], 'Team2': row['country2']})\n",
    "            else:\n",
    "                pred_set.append({'Team1': row['country2'], 'Team2': row['country1']})\n",
    "   \n",
    "    pred_set = pd.DataFrame(pred_set)\n",
    "    pred_set.insert(2, 'Team1_FIFA_RANK', pred_set['Team1'].map(last_team_scores.set_index('team')['rank']))\n",
    "    pred_set.insert(3, 'Team2_FIFA_RANK', pred_set['Team2'].map(last_team_scores.set_index('team')['rank']))\n",
    "    pred_set.insert(4, 'Team1_Goalkeeper_Score', pred_set['Team1'].map(last_team_scores.set_index('team')['goalkeeper_score']))\n",
    "    pred_set.insert(5, 'Team2_Goalkeeper_Score', pred_set['Team2'].map(last_team_scores.set_index('team')['goalkeeper_score']))\n",
    "    pred_set.insert(6, 'Team1_Defense', pred_set['Team1'].map(last_team_scores.set_index('team')['defense_score']))\n",
    "    pred_set.insert(7, 'Team1_Offense', pred_set['Team1'].map(last_team_scores.set_index('team')['offense_score']))\n",
    "    pred_set.insert(8, 'Team1_Midfield', pred_set['Team1'].map(last_team_scores.set_index('team')['midfield_score']))\n",
    "    pred_set.insert(9, 'Team2_Defense', pred_set['Team2'].map(last_team_scores.set_index('team')['defense_score']))\n",
    "    pred_set.insert(10, 'Team2_Offense', pred_set['Team2'].map(last_team_scores.set_index('team')['offense_score']))\n",
    "    pred_set.insert(11, 'Team2_Midfield', pred_set['Team2'].map(last_team_scores.set_index('team')['midfield_score']))\n",
    "    return pred_set"
   ]
  },
  {
   "cell_type": "code",
   "execution_count": 33,
   "metadata": {
    "id": "o8ls1N8H_A06"
   },
   "outputs": [],
   "source": [
    "def print_results(dataset, y_pred, matches, proba):\n",
    "  results = []\n",
    "  for i in range(dataset.shape[0]):\n",
    "      print()\n",
    "      if y_pred[i] == 2:\n",
    "          print(matches.iloc[i, 0] + \" vs. \" + matches.iloc[i, 1] + \" => Draw\")\n",
    "          results.append({'result': 'Draw'})\n",
    "      elif y_pred[i] == 1:\n",
    "          print(matches.iloc[i, 0] + \" vs. \" + matches.iloc[i, 1] + \" => Winner: \" + dataset.iloc[i, 0])\n",
    "          results.append({'result': dataset.iloc[i, 0]})\n",
    "      else:\n",
    "          print(matches.iloc[i, 0] + \" vs. \" + matches.iloc[i, 1] + \" => Winner: \" + dataset.iloc[i, 1])\n",
    "          results.append({'result': dataset.iloc[i, 1]})\n",
    "      try:\n",
    "          print('Probability of ' + dataset.iloc[i, 0] + ' winning: ', '%.3f'%(proba[i][1]))\n",
    "          print('Probability of Draw: ', '%.3f'%(proba[i][2]))\n",
    "          print('Probability of ' + dataset.iloc[i, 1] + ' winning: ', '%.3f'%(proba[i][0]))\n",
    "      except:   \n",
    "          print('Probability of ' + dataset.iloc[i, 1] + ' winning: ', '%.3f'%(proba[i][0]))   \n",
    "      print(\"\")\n",
    "  results = pd.DataFrame(results)\n",
    "  matches = pd.concat([matches.group, results], axis=1)\n",
    "  return matches"
   ]
  },
  {
   "cell_type": "code",
   "execution_count": 34,
   "metadata": {
    "id": "3FZdPL90NEMK"
   },
   "outputs": [],
   "source": [
    "def winner_to_match(round, prev_match):\n",
    "    round.insert(0, 'c1', round['country1'].map(prev_match.set_index('group')['result']))\n",
    "    round.insert(1, 'c2', round['country2'].map(prev_match.set_index('group')['result']))\n",
    "    round = round.drop(['country1','country2'], axis=1)\n",
    "    round = round.rename(columns={'c1':'country1', 'c2':'country2'}).reset_index(drop=True)\n",
    "    return round"
   ]
  },
  {
   "cell_type": "code",
   "execution_count": 35,
   "metadata": {
    "id": "Cg_u17P5PIHJ"
   },
   "outputs": [],
   "source": [
    "def prediction_knockout(round):\n",
    "    dataset_round = matches(round)\n",
    "    prediction_round = ks_model.predict(dataset_round)\n",
    "    proba_round = ks_model.predict_proba(dataset_round)\n",
    "    results_round = print_results(dataset_round, prediction_round, round, proba_round)\n",
    "    return results_round"
   ]
  },
  {
   "cell_type": "code",
   "execution_count": 36,
   "metadata": {
    "id": "gKLmjKIcc8mx"
   },
   "outputs": [],
   "source": [
    "def center_str(round):\n",
    "    spaces = ['',' ','  ','   ','    ','     ',]\n",
    "    for j in range(2):\n",
    "        for i in range(round.shape[0]):\n",
    "            if (13 - len(round.iloc[i, j])) % 2 == 0:\n",
    "                round.iloc[i, j] = spaces[int((13 - len(round.iloc[i, j])) / 2)] + round.iloc[i, j] + spaces[int((13 - len(round.iloc[i, j])) / 2)]\n",
    "            else:\n",
    "                round.iloc[i, j] = spaces[int(((13 - len(round.iloc[i, j])) / 2) - 0.5)] + round.iloc[i, j] + spaces[int(((13 - len(round.iloc[i, j])) / 2) + 0.5)]\n",
    "    return round"
   ]
  },
  {
   "cell_type": "code",
   "execution_count": 37,
   "metadata": {
    "id": "ex44PkT7c-wH"
   },
   "outputs": [],
   "source": [
    "def center2(a):\n",
    "    spaces = ['',' ','  ','   ','    ','     ','      ','       ','        ','         ','          ','           ','            ','             ','              ','               ','                ','                 ','                  ','                   ','                    ']\n",
    "    if (29 - len(a)) % 2 == 0:\n",
    "        a = spaces[int((29 - len(a)) / 2)] + a + spaces[int((29 - len(a)) / 2)]\n",
    "    else:\n",
    "        a = spaces[int(((29 - len(a)) / 2) - 0.5)] + a + spaces[int(((29 - len(a)) / 2) + 0.5)]\n",
    "    return a"
   ]
  },
  {
   "cell_type": "markdown",
   "metadata": {
    "id": "obtI3SIb-_j5"
   },
   "source": [
    "# GROUP STAGE PREDICTION"
   ]
  },
  {
   "cell_type": "code",
   "execution_count": 38,
   "metadata": {
    "colab": {
     "base_uri": "https://localhost:8080/",
     "height": 288
    },
    "id": "M6cxJzzbgqo8",
    "outputId": "04b24f9d-4d3d-4951-ba90-3a9e9a95c97b"
   },
   "outputs": [
    {
     "data": {
      "text/html": [
       "<div>\n",
       "<style scoped>\n",
       "    .dataframe tbody tr th:only-of-type {\n",
       "        vertical-align: middle;\n",
       "    }\n",
       "\n",
       "    .dataframe tbody tr th {\n",
       "        vertical-align: top;\n",
       "    }\n",
       "\n",
       "    .dataframe thead th {\n",
       "        text-align: right;\n",
       "    }\n",
       "</style>\n",
       "<table border=\"1\" class=\"dataframe\">\n",
       "  <thead>\n",
       "    <tr style=\"text-align: right;\">\n",
       "      <th></th>\n",
       "      <th>Team1</th>\n",
       "      <th>Team2</th>\n",
       "      <th>Team1_FIFA_RANK</th>\n",
       "      <th>Team2_FIFA_RANK</th>\n",
       "      <th>Team1_Goalkeeper_Score</th>\n",
       "      <th>Team2_Goalkeeper_Score</th>\n",
       "      <th>Team1_Defense</th>\n",
       "      <th>Team1_Offense</th>\n",
       "      <th>Team1_Midfield</th>\n",
       "      <th>Team2_Defense</th>\n",
       "      <th>Team2_Offense</th>\n",
       "      <th>Team2_Midfield</th>\n",
       "    </tr>\n",
       "  </thead>\n",
       "  <tbody>\n",
       "    <tr>\n",
       "      <th>43</th>\n",
       "      <td>Germany</td>\n",
       "      <td>Costa Rica</td>\n",
       "      <td>12</td>\n",
       "      <td>31</td>\n",
       "      <td>90.0</td>\n",
       "      <td>88.0</td>\n",
       "      <td>84.0</td>\n",
       "      <td>83.0</td>\n",
       "      <td>88.0</td>\n",
       "      <td>72.0</td>\n",
       "      <td>70.0</td>\n",
       "      <td>69.0</td>\n",
       "    </tr>\n",
       "    <tr>\n",
       "      <th>44</th>\n",
       "      <td>Uruguay</td>\n",
       "      <td>Ghana</td>\n",
       "      <td>13</td>\n",
       "      <td>60</td>\n",
       "      <td>80.0</td>\n",
       "      <td>74.0</td>\n",
       "      <td>81.0</td>\n",
       "      <td>84.0</td>\n",
       "      <td>80.0</td>\n",
       "      <td>76.0</td>\n",
       "      <td>76.0</td>\n",
       "      <td>78.0</td>\n",
       "    </tr>\n",
       "    <tr>\n",
       "      <th>45</th>\n",
       "      <td>Portugal</td>\n",
       "      <td>Korea Republic</td>\n",
       "      <td>8</td>\n",
       "      <td>29</td>\n",
       "      <td>82.0</td>\n",
       "      <td>75.0</td>\n",
       "      <td>85.0</td>\n",
       "      <td>86.0</td>\n",
       "      <td>84.0</td>\n",
       "      <td>73.0</td>\n",
       "      <td>80.0</td>\n",
       "      <td>74.0</td>\n",
       "    </tr>\n",
       "    <tr>\n",
       "      <th>46</th>\n",
       "      <td>Serbia</td>\n",
       "      <td>Switzerland</td>\n",
       "      <td>25</td>\n",
       "      <td>14</td>\n",
       "      <td>80.0</td>\n",
       "      <td>85.0</td>\n",
       "      <td>76.0</td>\n",
       "      <td>80.0</td>\n",
       "      <td>82.0</td>\n",
       "      <td>78.0</td>\n",
       "      <td>77.0</td>\n",
       "      <td>80.0</td>\n",
       "    </tr>\n",
       "    <tr>\n",
       "      <th>47</th>\n",
       "      <td>Brazil</td>\n",
       "      <td>Cameroon</td>\n",
       "      <td>1</td>\n",
       "      <td>37</td>\n",
       "      <td>89.0</td>\n",
       "      <td>67.0</td>\n",
       "      <td>85.0</td>\n",
       "      <td>86.0</td>\n",
       "      <td>86.0</td>\n",
       "      <td>77.0</td>\n",
       "      <td>78.0</td>\n",
       "      <td>75.0</td>\n",
       "    </tr>\n",
       "  </tbody>\n",
       "</table>\n",
       "</div>"
      ],
      "text/plain": [
       "       Team1           Team2  Team1_FIFA_RANK  Team2_FIFA_RANK  \\\n",
       "43   Germany      Costa Rica               12               31   \n",
       "44   Uruguay           Ghana               13               60   \n",
       "45  Portugal  Korea Republic                8               29   \n",
       "46    Serbia     Switzerland               25               14   \n",
       "47    Brazil        Cameroon                1               37   \n",
       "\n",
       "    Team1_Goalkeeper_Score  Team2_Goalkeeper_Score  Team1_Defense  \\\n",
       "43                    90.0                    88.0           84.0   \n",
       "44                    80.0                    74.0           81.0   \n",
       "45                    82.0                    75.0           85.0   \n",
       "46                    80.0                    85.0           76.0   \n",
       "47                    89.0                    67.0           85.0   \n",
       "\n",
       "    Team1_Offense  Team1_Midfield  Team2_Defense  Team2_Offense  \\\n",
       "43           83.0            88.0           72.0           70.0   \n",
       "44           84.0            80.0           76.0           76.0   \n",
       "45           86.0            84.0           73.0           80.0   \n",
       "46           80.0            82.0           78.0           77.0   \n",
       "47           86.0            86.0           77.0           78.0   \n",
       "\n",
       "    Team2_Midfield  \n",
       "43            69.0  \n",
       "44            78.0  \n",
       "45            74.0  \n",
       "46            80.0  \n",
       "47            75.0  "
      ]
     },
     "execution_count": 38,
     "metadata": {},
     "output_type": "execute_result"
    }
   ],
   "source": [
    "dataset_groups = matches(group_matches)\n",
    "dataset_groups.tail()"
   ]
  },
  {
   "cell_type": "code",
   "execution_count": 39,
   "metadata": {
    "colab": {
     "base_uri": "https://localhost:8080/"
    },
    "id": "eiEeN-4mk9C2",
    "outputId": "b6e0b153-8503-4191-b350-5ec82a4f74eb"
   },
   "outputs": [
    {
     "name": "stdout",
     "output_type": "stream",
     "text": [
      "\n",
      "Qatar vs. Ecuador => Winner: Qatar\n",
      "Probability of Qatar winning:  0.498\n",
      "Probability of Draw:  0.284\n",
      "Probability of Ecuador winning:  0.218\n",
      "\n",
      "\n",
      "Senegal vs. Netherlands => Winner: Netherlands\n",
      "Probability of Netherlands winning:  0.486\n",
      "Probability of Draw:  0.286\n",
      "Probability of Senegal winning:  0.228\n",
      "\n",
      "\n",
      "England vs. IR Iran => Winner: England\n",
      "Probability of England winning:  0.728\n",
      "Probability of Draw:  0.173\n",
      "Probability of IR Iran winning:  0.099\n",
      "\n",
      "\n",
      "USA vs. Wales => Winner: USA\n",
      "Probability of USA winning:  0.485\n",
      "Probability of Draw:  0.259\n",
      "Probability of Wales winning:  0.256\n",
      "\n",
      "\n",
      "France vs. Australia => Winner: France\n",
      "Probability of France winning:  0.759\n",
      "Probability of Draw:  0.147\n",
      "Probability of Australia winning:  0.095\n",
      "\n",
      "\n",
      "Denmark vs. Tunisia => Winner: Denmark\n",
      "Probability of Denmark winning:  0.589\n",
      "Probability of Draw:  0.234\n",
      "Probability of Tunisia winning:  0.177\n",
      "\n",
      "\n",
      "Mexico vs. Poland => Winner: Poland\n",
      "Probability of Poland winning:  0.393\n",
      "Probability of Draw:  0.290\n",
      "Probability of Mexico winning:  0.317\n",
      "\n",
      "\n",
      "Argentina vs. Saudi Arabia => Winner: Argentina\n",
      "Probability of Argentina winning:  0.695\n",
      "Probability of Draw:  0.202\n",
      "Probability of Saudi Arabia winning:  0.103\n",
      "\n",
      "\n",
      "Belgium vs. Canada => Winner: Belgium\n",
      "Probability of Belgium winning:  0.762\n",
      "Probability of Draw:  0.145\n",
      "Probability of Canada winning:  0.093\n",
      "\n",
      "\n",
      "Spain vs. Costa Rica => Winner: Spain\n",
      "Probability of Spain winning:  0.760\n",
      "Probability of Draw:  0.144\n",
      "Probability of Costa Rica winning:  0.096\n",
      "\n",
      "\n",
      "Germany vs. Japan => Winner: Germany\n",
      "Probability of Germany winning:  0.661\n",
      "Probability of Draw:  0.197\n",
      "Probability of Japan winning:  0.142\n",
      "\n",
      "\n",
      "Morocco vs. Croatia => Winner: Croatia\n",
      "Probability of Croatia winning:  0.441\n",
      "Probability of Draw:  0.295\n",
      "Probability of Morocco winning:  0.265\n",
      "\n",
      "\n",
      "Switzerland vs. Cameroon => Winner: Switzerland\n",
      "Probability of Switzerland winning:  0.467\n",
      "Probability of Draw:  0.277\n",
      "Probability of Cameroon winning:  0.256\n",
      "\n",
      "\n",
      "Uruguay vs. Korea Republic => Winner: Uruguay\n",
      "Probability of Uruguay winning:  0.528\n",
      "Probability of Draw:  0.282\n",
      "Probability of Korea Republic winning:  0.190\n",
      "\n",
      "\n",
      "Portugal vs. Ghana => Winner: Portugal\n",
      "Probability of Portugal winning:  0.678\n",
      "Probability of Draw:  0.215\n",
      "Probability of Ghana winning:  0.108\n",
      "\n",
      "\n",
      "Brazil vs. Serbia => Winner: Brazil\n",
      "Probability of Brazil winning:  0.623\n",
      "Probability of Draw:  0.188\n",
      "Probability of Serbia winning:  0.188\n",
      "\n",
      "\n",
      "Wales vs. IR Iran => Winner: Wales\n",
      "Probability of Wales winning:  0.582\n",
      "Probability of Draw:  0.242\n",
      "Probability of IR Iran winning:  0.175\n",
      "\n",
      "\n",
      "Qatar vs. Senegal => Winner: Senegal\n",
      "Probability of Qatar winning:  0.320\n",
      "Probability of Draw:  0.284\n",
      "Probability of Senegal winning:  0.396\n",
      "\n",
      "\n",
      "Netherlands vs. Ecuador => Winner: Netherlands\n",
      "Probability of Netherlands winning:  0.674\n",
      "Probability of Draw:  0.210\n",
      "Probability of Ecuador winning:  0.116\n",
      "\n",
      "\n",
      "England vs. USA => Winner: England\n",
      "Probability of England winning:  0.600\n",
      "Probability of Draw:  0.233\n",
      "Probability of USA winning:  0.168\n",
      "\n",
      "\n",
      "Tunisia vs. Australia => Winner: Australia\n",
      "Probability of Australia winning:  0.499\n",
      "Probability of Draw:  0.266\n",
      "Probability of Tunisia winning:  0.235\n",
      "\n",
      "\n",
      "Poland vs. Saudi Arabia => Winner: Poland\n",
      "Probability of Poland winning:  0.599\n",
      "Probability of Draw:  0.237\n",
      "Probability of Saudi Arabia winning:  0.164\n",
      "\n",
      "\n",
      "France vs. Denmark => Winner: France\n",
      "Probability of France winning:  0.608\n",
      "Probability of Draw:  0.219\n",
      "Probability of Denmark winning:  0.173\n",
      "\n",
      "\n",
      "Argentina vs. Mexico => Winner: Argentina\n",
      "Probability of Argentina winning:  0.488\n",
      "Probability of Draw:  0.282\n",
      "Probability of Mexico winning:  0.230\n",
      "\n",
      "\n",
      "Japan vs. Costa Rica => Winner: Japan\n",
      "Probability of Japan winning:  0.587\n",
      "Probability of Draw:  0.239\n",
      "Probability of Costa Rica winning:  0.174\n",
      "\n",
      "\n",
      "Belgium vs. Morocco => Winner: Belgium\n",
      "Probability of Belgium winning:  0.579\n",
      "Probability of Draw:  0.231\n",
      "Probability of Morocco winning:  0.190\n",
      "\n",
      "\n",
      "Croatia vs. Canada => Winner: Croatia\n",
      "Probability of Croatia winning:  0.650\n",
      "Probability of Draw:  0.204\n",
      "Probability of Canada winning:  0.146\n",
      "\n",
      "\n",
      "Spain vs. Germany => Winner: Germany\n",
      "Probability of Germany winning:  0.409\n",
      "Probability of Draw:  0.270\n",
      "Probability of Spain winning:  0.322\n",
      "\n",
      "\n",
      "Cameroon vs. Serbia => Winner: Serbia\n",
      "Probability of Serbia winning:  0.476\n",
      "Probability of Draw:  0.296\n",
      "Probability of Cameroon winning:  0.228\n",
      "\n",
      "\n",
      "Korea Republic vs. Ghana => Winner: Ghana\n",
      "Probability of Ghana winning:  0.384\n",
      "Probability of Draw:  0.309\n",
      "Probability of Korea Republic winning:  0.307\n",
      "\n",
      "\n",
      "Brazil vs. Switzerland => Winner: Brazil\n",
      "Probability of Brazil winning:  0.668\n",
      "Probability of Draw:  0.179\n",
      "Probability of Switzerland winning:  0.153\n",
      "\n",
      "\n",
      "Portugal vs. Uruguay => Winner: Portugal\n",
      "Probability of Portugal winning:  0.486\n",
      "Probability of Draw:  0.286\n",
      "Probability of Uruguay winning:  0.228\n",
      "\n",
      "\n",
      "Wales vs. England => Winner: England\n",
      "Probability of England winning:  0.633\n",
      "Probability of Draw:  0.224\n",
      "Probability of Wales winning:  0.143\n",
      "\n",
      "\n",
      "IR Iran vs. USA => Winner: USA\n",
      "Probability of USA winning:  0.622\n",
      "Probability of Draw:  0.225\n",
      "Probability of IR Iran winning:  0.154\n",
      "\n",
      "\n",
      "Ecuador vs. Senegal => Winner: Senegal\n",
      "Probability of Senegal winning:  0.597\n",
      "Probability of Draw:  0.253\n",
      "Probability of Ecuador winning:  0.150\n",
      "\n",
      "\n",
      "Netherlands vs. Qatar => Winner: Netherlands\n",
      "Probability of Netherlands winning:  0.567\n",
      "Probability of Draw:  0.255\n",
      "Probability of Qatar winning:  0.178\n",
      "\n",
      "\n",
      "Australia vs. Denmark => Winner: Denmark\n",
      "Probability of Denmark winning:  0.602\n",
      "Probability of Draw:  0.244\n",
      "Probability of Australia winning:  0.154\n",
      "\n",
      "\n",
      "Tunisia vs. France => Winner: France\n",
      "Probability of France winning:  0.755\n",
      "Probability of Draw:  0.138\n",
      "Probability of Tunisia winning:  0.107\n",
      "\n",
      "\n",
      "Poland vs. Argentina => Winner: Argentina\n",
      "Probability of Argentina winning:  0.537\n",
      "Probability of Draw:  0.260\n",
      "Probability of Poland winning:  0.203\n",
      "\n",
      "\n",
      "Saudi Arabia vs. Mexico => Winner: Mexico\n",
      "Probability of Mexico winning:  0.608\n",
      "Probability of Draw:  0.242\n",
      "Probability of Saudi Arabia winning:  0.150\n",
      "\n",
      "\n",
      "Croatia vs. Belgium => Winner: Belgium\n",
      "Probability of Croatia winning:  0.275\n",
      "Probability of Draw:  0.257\n",
      "Probability of Belgium winning:  0.469\n",
      "\n",
      "\n",
      "Canada vs. Morocco => Winner: Morocco\n",
      "Probability of Morocco winning:  0.598\n",
      "Probability of Draw:  0.235\n",
      "Probability of Canada winning:  0.167\n",
      "\n",
      "\n",
      "Japan vs. Spain => Winner: Spain\n",
      "Probability of Spain winning:  0.681\n",
      "Probability of Draw:  0.190\n",
      "Probability of Japan winning:  0.129\n",
      "\n",
      "\n",
      "Costa Rica vs. Germany => Winner: Germany\n",
      "Probability of Germany winning:  0.763\n",
      "Probability of Draw:  0.143\n",
      "Probability of Costa Rica winning:  0.094\n",
      "\n",
      "\n",
      "Ghana vs. Uruguay => Winner: Uruguay\n",
      "Probability of Uruguay winning:  0.624\n",
      "Probability of Draw:  0.242\n",
      "Probability of Ghana winning:  0.134\n",
      "\n",
      "\n",
      "Korea Republic vs. Portugal => Winner: Portugal\n",
      "Probability of Portugal winning:  0.591\n",
      "Probability of Draw:  0.256\n",
      "Probability of Korea Republic winning:  0.153\n",
      "\n",
      "\n",
      "Serbia vs. Switzerland => Winner: Serbia\n",
      "Probability of Serbia winning:  0.433\n",
      "Probability of Draw:  0.271\n",
      "Probability of Switzerland winning:  0.296\n",
      "\n",
      "\n",
      "Cameroon vs. Brazil => Winner: Brazil\n",
      "Probability of Brazil winning:  0.668\n",
      "Probability of Draw:  0.185\n",
      "Probability of Cameroon winning:  0.146\n",
      "\n"
     ]
    }
   ],
   "source": [
    "prediction_groups = gs_model.predict(dataset_groups)\n",
    "proba = gs_model.predict_proba(dataset_groups)\n",
    "results = print_results(dataset_groups, prediction_groups, group_matches, proba)"
   ]
  },
  {
   "cell_type": "code",
   "execution_count": 40,
   "metadata": {
    "id": "yB2vrrcJDy0N"
   },
   "outputs": [],
   "source": [
    "team_group['points'] = 0\n",
    "team_group\n",
    "for i in range(results.shape[0]):\n",
    "    for j in range(team_group.shape[0]):\n",
    "        if results.iloc[i, 1] == team_group.iloc[j, 0]:\n",
    "            team_group.iloc[j, 2] += 3"
   ]
  },
  {
   "cell_type": "markdown",
   "metadata": {
    "id": "DgcUiRC8_eQn"
   },
   "source": [
    "**Points Table:** only the best two from each group advance to the next phase"
   ]
  },
  {
   "cell_type": "code",
   "execution_count": 41,
   "metadata": {
    "colab": {
     "base_uri": "https://localhost:8080/"
    },
    "id": "L61msur3fOR8",
    "outputId": "0bf70a84-0306-4bfc-d25e-eae300706571"
   },
   "outputs": [
    {
     "name": "stdout",
     "output_type": "stream",
     "text": [
      "                      points\n",
      "group team                  \n",
      "a     Ecuador              0\n",
      "      Netherlands          9\n",
      "      Qatar                3\n",
      "      Senegal              6\n",
      "b     England              9\n",
      "      IR Iran              0\n",
      "      USA                  6\n",
      "      Wales                3\n",
      "c     Argentina            9\n",
      "      Mexico               3\n",
      "      Poland               6\n",
      "      Saudi Arabia         0\n",
      "d     Australia            3\n",
      "      Denmark              6\n",
      "      France               9\n",
      "      Tunisia              0\n",
      "e     Costa Rica           0\n",
      "      Germany              9\n",
      "      Japan                3\n",
      "      Spain                6\n",
      "f     Belgium              9\n",
      "      Canada               0\n",
      "      Croatia              6\n",
      "      Morocco              3\n",
      "g     Brazil               9\n",
      "      Cameroon             0\n",
      "      Serbia               6\n",
      "      Switzerland          3\n",
      "h     Ghana                3\n",
      "      Korea Republic       0\n",
      "      Portugal             9\n",
      "      Uruguay              6\n"
     ]
    }
   ],
   "source": [
    "print(team_group.groupby(['group','team']).mean().astype(int))"
   ]
  },
  {
   "cell_type": "markdown",
   "metadata": {
    "id": "4LF-Ic5F_Qrn"
   },
   "source": [
    "# KNOCKOUT STAGE PREDICTION\n",
    "**Round of 16**"
   ]
  },
  {
   "cell_type": "code",
   "execution_count": 42,
   "metadata": {
    "colab": {
     "base_uri": "https://localhost:8080/"
    },
    "id": "nE2NScP3l-hv",
    "outputId": "a615d1e3-a236-48dc-8eb3-7f6cfc7bcdae"
   },
   "outputs": [
    {
     "name": "stdout",
     "output_type": "stream",
     "text": [
      "\n",
      "Netherlands vs. USA => Winner: Netherlands\n",
      "Probability of Netherlands winning:  0.762\n",
      "Probability of USA winning:  0.238\n",
      "\n",
      "\n",
      "Argentina vs. Denmark => Winner: Argentina\n",
      "Probability of Argentina winning:  0.699\n",
      "Probability of Denmark winning:  0.301\n",
      "\n",
      "\n",
      "Germany vs. Croatia => Winner: Germany\n",
      "Probability of Germany winning:  0.653\n",
      "Probability of Croatia winning:  0.347\n",
      "\n",
      "\n",
      "Brazil vs. Uruguay => Winner: Brazil\n",
      "Probability of Brazil winning:  0.852\n",
      "Probability of Uruguay winning:  0.148\n",
      "\n",
      "\n",
      "England vs. Senegal => Winner: England\n",
      "Probability of England winning:  0.729\n",
      "Probability of Senegal winning:  0.271\n",
      "\n",
      "\n",
      "France vs. Poland => Winner: France\n",
      "Probability of France winning:  0.831\n",
      "Probability of Poland winning:  0.169\n",
      "\n",
      "\n",
      "Belgium vs. Spain => Winner: Spain\n",
      "Probability of Spain winning:  0.675\n",
      "Probability of Belgium winning:  0.325\n",
      "\n",
      "\n",
      "Portugal vs. Serbia => Winner: Portugal\n",
      "Probability of Portugal winning:  0.663\n",
      "Probability of Serbia winning:  0.337\n",
      "\n"
     ]
    }
   ],
   "source": [
    "round_of_16 = team_group[team_group['points'] > 5].reset_index(drop=True)\n",
    "round_of_16['group'] = (4 - 1/3 * round_of_16.points).astype(int).astype(str) + round_of_16.group \n",
    "round_of_16 = round_of_16.rename(columns = {\"team\":\"result\"})\n",
    "    \n",
    "round_16 = winner_to_match(round_16, round_of_16)\n",
    "results_round_16 = prediction_knockout(round_16)"
   ]
  },
  {
   "cell_type": "markdown",
   "metadata": {
    "id": "6afsP76ZAMQY"
   },
   "source": [
    "**Quarterfinals**"
   ]
  },
  {
   "cell_type": "code",
   "execution_count": 43,
   "metadata": {
    "colab": {
     "base_uri": "https://localhost:8080/"
    },
    "id": "iGjrfe0IBVzE",
    "outputId": "772aa302-91c0-4bc7-c8f8-9c952313f7ff"
   },
   "outputs": [
    {
     "name": "stdout",
     "output_type": "stream",
     "text": [
      "\n",
      "Netherlands vs. Argentina => Winner: Argentina\n",
      "Probability of Netherlands winning:  0.322\n",
      "Probability of Argentina winning:  0.678\n",
      "\n",
      "\n",
      "Germany vs. Brazil => Winner: Germany\n",
      "Probability of Germany winning:  0.529\n",
      "Probability of Brazil winning:  0.471\n",
      "\n",
      "\n",
      "England vs. France => Winner: France\n",
      "Probability of England winning:  0.409\n",
      "Probability of France winning:  0.591\n",
      "\n",
      "\n",
      "Spain vs. Portugal => Winner: Portugal\n",
      "Probability of Portugal winning:  0.559\n",
      "Probability of Spain winning:  0.441\n",
      "\n"
     ]
    }
   ],
   "source": [
    "quarter_finals = winner_to_match(quarter_finals, results_round_16)\n",
    "results_quarter_finals = prediction_knockout(quarter_finals)"
   ]
  },
  {
   "cell_type": "markdown",
   "metadata": {
    "id": "KyaWKm4UAR25"
   },
   "source": [
    "**Semi-final**"
   ]
  },
  {
   "cell_type": "code",
   "execution_count": 44,
   "metadata": {
    "colab": {
     "base_uri": "https://localhost:8080/"
    },
    "id": "UmIc04mPBsqC",
    "outputId": "d4449353-4f32-4d09-88b6-99e86db325d8"
   },
   "outputs": [
    {
     "name": "stdout",
     "output_type": "stream",
     "text": [
      "\n",
      "Argentina vs. Germany => Winner: Argentina\n",
      "Probability of Germany winning:  0.417\n",
      "Probability of Argentina winning:  0.583\n",
      "\n",
      "\n",
      "France vs. Portugal => Winner: France\n",
      "Probability of Portugal winning:  0.375\n",
      "Probability of France winning:  0.625\n",
      "\n"
     ]
    }
   ],
   "source": [
    "semi_finals = winner_to_match(semi_finals, results_quarter_finals)\n",
    "results_finals = prediction_knockout(semi_finals)"
   ]
  },
  {
   "cell_type": "markdown",
   "metadata": {
    "id": "6RAkiggRAWWU"
   },
   "source": [
    "**Final**"
   ]
  },
  {
   "cell_type": "code",
   "execution_count": 45,
   "metadata": {
    "colab": {
     "base_uri": "https://localhost:8080/"
    },
    "id": "MHWOJlwDH0JY",
    "outputId": "4dd511c2-a776-41cb-edba-2f68e1e39e68"
   },
   "outputs": [
    {
     "name": "stdout",
     "output_type": "stream",
     "text": [
      "\n",
      "Argentina vs. France => Winner: France\n",
      "Probability of France winning:  0.581\n",
      "Probability of Argentina winning:  0.419\n",
      "\n"
     ]
    }
   ],
   "source": [
    "final = winner_to_match(final, results_finals)\n",
    "winner = prediction_knockout(final)"
   ]
  },
  {
   "cell_type": "markdown",
   "metadata": {
    "id": "RCcHO0OzAfzu"
   },
   "source": [
    "**Third place**"
   ]
  },
  {
   "cell_type": "code",
   "execution_count": 46,
   "metadata": {
    "colab": {
     "base_uri": "https://localhost:8080/"
    },
    "id": "p8qzqQAHWvx8",
    "outputId": "c7c9a411-bfdf-4d1c-e9f1-68e8469c0dfb"
   },
   "outputs": [
    {
     "name": "stdout",
     "output_type": "stream",
     "text": [
      "\n",
      "Germany vs. Portugal => Winner: Germany\n",
      "Probability of Germany winning:  0.591\n",
      "Probability of Portugal winning:  0.409\n",
      "\n"
     ]
    }
   ],
   "source": [
    "second = results_finals[~results_finals.result.isin(winner.result)]\n",
    "results_finals_3 = results_quarter_finals[~results_quarter_finals.result.isin(results_finals.result)]\n",
    "results_finals_3.iloc[0, 0]='z1'\n",
    "results_finals_3.iloc[1, 0]='z2'\n",
    "second_final = winner_to_match(second_final, results_finals_3)\n",
    "third = prediction_knockout(second_final)"
   ]
  },
  {
   "cell_type": "markdown",
   "metadata": {
    "id": "Re8xfk-mAodH"
   },
   "source": [
    "**Printing Tournament Table**"
   ]
  },
  {
   "cell_type": "code",
   "execution_count": 47,
   "metadata": {
    "id": "7UYhyscaajMu"
   },
   "outputs": [],
   "source": [
    "round_16 = center_str(round_16)\n",
    "quarter_finals = center_str(quarter_finals)\n",
    "semi_finals = center_str(semi_finals)\n",
    "final = center_str(final)\n",
    "group_matches = center_str(group_matches)"
   ]
  },
  {
   "cell_type": "code",
   "execution_count": 48,
   "metadata": {
    "colab": {
     "base_uri": "https://localhost:8080/"
    },
    "id": "ucLaz8JiBYFV",
    "outputId": "eed3d90a-99d3-4986-a4e1-ae293bf5348e"
   },
   "outputs": [
    {
     "name": "stdout",
     "output_type": "stream",
     "text": [
      " Netherlands ━━━━┓                                                                                                                             ┏━━━━   England   \n",
      "                 ┃                                                                                                                             ┃\n",
      "                 ┃━━━━ Netherlands ━━━━┓                                                                                 ┏━━━━   England   ━━━━┃\n",
      "                 ┃                     ┃                                                                                 ┃                     ┃\n",
      "     USA     ━━━━┛                     ┃                                                                                 ┃                     ┗━━━━   Senegal   \n",
      "                                       ┃━━━━  Argentina  ━━━━┓                                     ┏━━━━   France    ━━━━┃\n",
      "  Argentina  ━━━━┓                     ┃                     ┃                                     ┃                     ┃                     ┏━━━━   France    \n",
      "                 ┃                     ┃                     ┃                                     ┃                     ┃                     ┃\n",
      "                 ┃━━━━  Argentina  ━━━━┛                     ┃                                     ┃                     ┗━━━━   France    ━━━━┃\n",
      "                 ┃                                           ┃                                     ┃                                           ┃\n",
      "   Denmark   ━━━━┛                                           ┃                                     ┃                                           ┗━━━━   Poland    \n",
      "                                                             ┃━━━━  Argentina  vs.   France    ━━━━┃\n",
      "   Germany   ━━━━┓                                           ┃                                     ┃                                           ┏━━━━   Belgium   \n",
      "                 ┃                                           ┃                                     ┃                                           ┃\n",
      "                 ┃━━━━   Germany   ━━━━┓                     ┃                                     ┃                     ┏━━━━    Spain    ━━━━┃\n",
      "                 ┃                     ┃                     ┃                                     ┃                     ┃                     ┃\n",
      "   Croatia   ━━━━┛                     ┃                     ┃                                     ┃                     ┃                     ┗━━━━    Spain    \n",
      "                                       ┃━━━━   Germany   ━━━━┛                                     ┗━━━━  Portugal   ━━━━┃\n",
      "   Brazil    ━━━━┓                     ┃                                                                                 ┃                     ┏━━━━  Portugal   \n",
      "                 ┃                     ┃                                                                                 ┃                     ┃\n",
      "                 ┃━━━━   Brazil    ━━━━┛                                                                                 ┗━━━━  Portugal   ━━━━┃\n",
      "                 ┃                                                                                                                             ┃\n",
      "   Uruguay   ━━━━┛                                                                                                                             ┗━━━━   Serbia    \n",
      "                                                                            🥇France           \n",
      "                                                                          🥈Argentina          \n",
      "                                                                           🥉Germany           \n"
     ]
    }
   ],
   "source": [
    "print(round_16.iloc[0, 0]+'━━━━┓                                                                                                                             ┏━━━━'+round_16.iloc[4, 0])\n",
    "print('                 ┃                                                                                                                             ┃')\n",
    "print('                 ┃━━━━'+quarter_finals.iloc[0, 0]+'━━━━┓                                                                                 ┏━━━━'+quarter_finals.iloc[2, 0]+'━━━━┃')\n",
    "print('                 ┃                     ┃                                                                                 ┃                     ┃')\n",
    "print(round_16.iloc[0, 1]+'━━━━┛                     ┃                                                                                 ┃                     ┗━━━━'+round_16.iloc[4, 1])\n",
    "print('                                       ┃━━━━'+semi_finals.iloc[0, 0]+'━━━━┓                                     ┏━━━━'+semi_finals.iloc[1, 0]+'━━━━┃')\n",
    "print(round_16.iloc[1, 0]+'━━━━┓                     ┃                     ┃                                     ┃                     ┃                     ┏━━━━'+round_16.iloc[5, 0])\n",
    "print('                 ┃                     ┃                     ┃                                     ┃                     ┃                     ┃')\n",
    "print('                 ┃━━━━'+quarter_finals.iloc[0, 1]+'━━━━┛                     ┃                                     ┃                     ┗━━━━'+quarter_finals.iloc[2, 1]+'━━━━┃')\n",
    "print('                 ┃                                           ┃                                     ┃                                           ┃')\n",
    "print(round_16.iloc[1, 1]+'━━━━┛                                           ┃                                     ┃                                           ┗━━━━'+round_16.iloc[5, 1])\n",
    "print('                                                             ┃━━━━'+final.iloc[0, 0]+'vs.'+final.iloc[0, 1]+'━━━━┃')\n",
    "print(round_16.iloc[2, 0]+'━━━━┓                                           ┃                                     ┃                                           ┏━━━━'+round_16.iloc[6, 0])\n",
    "print('                 ┃                                           ┃                                     ┃                                           ┃')\n",
    "print('                 ┃━━━━'+quarter_finals.iloc[1, 0]+'━━━━┓                     ┃                                     ┃                     ┏━━━━'+quarter_finals.iloc[3, 0]+'━━━━┃')\n",
    "print('                 ┃                     ┃                     ┃                                     ┃                     ┃                     ┃')\n",
    "print(round_16.iloc[2, 1]+'━━━━┛                     ┃                     ┃                                     ┃                     ┃                     ┗━━━━'+round_16.iloc[6, 1])\n",
    "print('                                       ┃━━━━'+semi_finals.iloc[0, 1]+'━━━━┛                                     ┗━━━━'+semi_finals.iloc[1, 1]+'━━━━┃')\n",
    "print(round_16.iloc[3, 0]+'━━━━┓                     ┃                                                                                 ┃                     ┏━━━━'+round_16.iloc[7, 0])\n",
    "print('                 ┃                     ┃                                                                                 ┃                     ┃')\n",
    "print('                 ┃━━━━'+quarter_finals.iloc[1, 1]+'━━━━┛                                                                                 ┗━━━━'+quarter_finals.iloc[3, 1]+'━━━━┃')\n",
    "print('                 ┃                                                                                                                             ┃')\n",
    "print(round_16.iloc[3, 1]+'━━━━┛                                                                                                                             ┗━━━━'+round_16.iloc[7, 1])\n",
    "print(\"                                                                 \"+center2(\"\\U0001F947\"+winner.iloc[0, 1]))\n",
    "print(\"                                                                 \"+center2(\"\\U0001F948\"+second.iloc[0, 1]))\n",
    "print(\"                                                                 \"+center2(\"\\U0001F949\"+third.iloc[0, 1]))"
   ]
  }
 ],
 "metadata": {
  "colab": {
   "collapsed_sections": [
    "_7_ON8XCYkI7",
    "FEYek9oklogj",
    "JBPV0DlGnp7Z",
    "Atz3_2DioYo5",
    "q_KSlSYgvl06",
    "TyNoBxnDy2tO",
    "16Po-EIqzGDA"
   ],
   "include_colab_link": true,
   "provenance": []
  },
  "kernelspec": {
   "display_name": "Python 3.11.0 ('world_cup')",
   "language": "python",
   "name": "python3"
  },
  "language_info": {
   "codemirror_mode": {
    "name": "ipython",
    "version": 3
   },
   "file_extension": ".py",
   "mimetype": "text/x-python",
   "name": "python",
   "nbconvert_exporter": "python",
   "pygments_lexer": "ipython3",
   "version": "3.11.0"
  },
  "vscode": {
   "interpreter": {
    "hash": "5ff3699182f43d925cddd9bcd85f14356ea76f0e30d035b376f9a8cb59efa084"
   }
  }
 },
 "nbformat": 4,
 "nbformat_minor": 1
}
